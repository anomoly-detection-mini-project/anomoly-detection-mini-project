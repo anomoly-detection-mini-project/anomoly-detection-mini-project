{
 "cells": [
  {
   "cell_type": "code",
   "execution_count": 1,
   "id": "1f976696",
   "metadata": {},
   "outputs": [],
   "source": [
    "import matplotlib.pyplot as plt\n",
    "import numpy as np\n",
    "import pandas as pd\n",
    "import seaborn as sns\n",
    "from sklearn import metrics\n",
    "\n",
    "import warnings\n",
    "warnings.filterwarnings(\"ignore\")\n",
    "%matplotlib inline"
   ]
  },
  {
   "cell_type": "markdown",
   "id": "4deaa614",
   "metadata": {},
   "source": [
    "## 5. At some point in 2019, the ability for students and alumni to access both curriculums (web dev to ds, ds to web dev) should have been shut off. Do you see any evidence of that happening? Did it happen before?\n"
   ]
  },
  {
   "cell_type": "code",
   "execution_count": 2,
   "id": "dc7b96e4",
   "metadata": {},
   "outputs": [],
   "source": [
    "df=pd.read_csv('curriculum.csv')"
   ]
  },
  {
   "cell_type": "code",
   "execution_count": 3,
   "id": "82fad08e",
   "metadata": {},
   "outputs": [
    {
     "data": {
      "text/plain": [
       "(866747, 10)"
      ]
     },
     "execution_count": 3,
     "metadata": {},
     "output_type": "execute_result"
    }
   ],
   "source": [
    "df.shape"
   ]
  },
  {
   "cell_type": "code",
   "execution_count": 4,
   "id": "cebd0266",
   "metadata": {},
   "outputs": [
    {
     "data": {
      "text/html": [
       "<div>\n",
       "<style scoped>\n",
       "    .dataframe tbody tr th:only-of-type {\n",
       "        vertical-align: middle;\n",
       "    }\n",
       "\n",
       "    .dataframe tbody tr th {\n",
       "        vertical-align: top;\n",
       "    }\n",
       "\n",
       "    .dataframe thead th {\n",
       "        text-align: right;\n",
       "    }\n",
       "</style>\n",
       "<table border=\"1\" class=\"dataframe\">\n",
       "  <thead>\n",
       "    <tr style=\"text-align: right;\">\n",
       "      <th></th>\n",
       "      <th>id</th>\n",
       "      <th>name</th>\n",
       "      <th>start_date</th>\n",
       "      <th>end_date</th>\n",
       "      <th>program_id</th>\n",
       "      <th>date</th>\n",
       "      <th>time</th>\n",
       "      <th>path</th>\n",
       "      <th>user_id</th>\n",
       "      <th>ip</th>\n",
       "    </tr>\n",
       "  </thead>\n",
       "  <tbody>\n",
       "    <tr>\n",
       "      <th>0</th>\n",
       "      <td>8.0</td>\n",
       "      <td>Hampton</td>\n",
       "      <td>2015-09-22</td>\n",
       "      <td>2016-02-06</td>\n",
       "      <td>1.0</td>\n",
       "      <td>2018-01-26</td>\n",
       "      <td>09:55:03</td>\n",
       "      <td>/</td>\n",
       "      <td>1.0</td>\n",
       "      <td>97.105.19.61</td>\n",
       "    </tr>\n",
       "    <tr>\n",
       "      <th>1</th>\n",
       "      <td>8.0</td>\n",
       "      <td>Hampton</td>\n",
       "      <td>2015-09-22</td>\n",
       "      <td>2016-02-06</td>\n",
       "      <td>1.0</td>\n",
       "      <td>2018-01-26</td>\n",
       "      <td>09:56:02</td>\n",
       "      <td>java-ii</td>\n",
       "      <td>1.0</td>\n",
       "      <td>97.105.19.61</td>\n",
       "    </tr>\n",
       "    <tr>\n",
       "      <th>2</th>\n",
       "      <td>8.0</td>\n",
       "      <td>Hampton</td>\n",
       "      <td>2015-09-22</td>\n",
       "      <td>2016-02-06</td>\n",
       "      <td>1.0</td>\n",
       "      <td>2018-01-26</td>\n",
       "      <td>09:56:05</td>\n",
       "      <td>java-ii/object-oriented-programming</td>\n",
       "      <td>1.0</td>\n",
       "      <td>97.105.19.61</td>\n",
       "    </tr>\n",
       "    <tr>\n",
       "      <th>3</th>\n",
       "      <td>8.0</td>\n",
       "      <td>Hampton</td>\n",
       "      <td>2015-09-22</td>\n",
       "      <td>2016-02-06</td>\n",
       "      <td>1.0</td>\n",
       "      <td>2018-01-26</td>\n",
       "      <td>09:56:06</td>\n",
       "      <td>slides/object_oriented_programming</td>\n",
       "      <td>1.0</td>\n",
       "      <td>97.105.19.61</td>\n",
       "    </tr>\n",
       "    <tr>\n",
       "      <th>4</th>\n",
       "      <td>22.0</td>\n",
       "      <td>Teddy</td>\n",
       "      <td>2018-01-08</td>\n",
       "      <td>2018-05-17</td>\n",
       "      <td>2.0</td>\n",
       "      <td>2018-01-26</td>\n",
       "      <td>09:56:24</td>\n",
       "      <td>javascript-i/conditionals</td>\n",
       "      <td>2.0</td>\n",
       "      <td>97.105.19.61</td>\n",
       "    </tr>\n",
       "  </tbody>\n",
       "</table>\n",
       "</div>"
      ],
      "text/plain": [
       "     id     name  start_date    end_date  program_id        date      time  \\\n",
       "0   8.0  Hampton  2015-09-22  2016-02-06         1.0  2018-01-26  09:55:03   \n",
       "1   8.0  Hampton  2015-09-22  2016-02-06         1.0  2018-01-26  09:56:02   \n",
       "2   8.0  Hampton  2015-09-22  2016-02-06         1.0  2018-01-26  09:56:05   \n",
       "3   8.0  Hampton  2015-09-22  2016-02-06         1.0  2018-01-26  09:56:06   \n",
       "4  22.0    Teddy  2018-01-08  2018-05-17         2.0  2018-01-26  09:56:24   \n",
       "\n",
       "                                  path  user_id            ip  \n",
       "0                                    /      1.0  97.105.19.61  \n",
       "1                              java-ii      1.0  97.105.19.61  \n",
       "2  java-ii/object-oriented-programming      1.0  97.105.19.61  \n",
       "3   slides/object_oriented_programming      1.0  97.105.19.61  \n",
       "4            javascript-i/conditionals      2.0  97.105.19.61  "
      ]
     },
     "execution_count": 4,
     "metadata": {},
     "output_type": "execute_result"
    }
   ],
   "source": [
    "df.head()"
   ]
  },
  {
   "cell_type": "code",
   "execution_count": 5,
   "id": "5403e415",
   "metadata": {},
   "outputs": [],
   "source": [
    "df.rename(columns={'date': 'request_date', 'time': 'request_time'}, inplace=True)"
   ]
  },
  {
   "cell_type": "code",
   "execution_count": 6,
   "id": "301db9e6",
   "metadata": {},
   "outputs": [
    {
     "data": {
      "text/html": [
       "<div>\n",
       "<style scoped>\n",
       "    .dataframe tbody tr th:only-of-type {\n",
       "        vertical-align: middle;\n",
       "    }\n",
       "\n",
       "    .dataframe tbody tr th {\n",
       "        vertical-align: top;\n",
       "    }\n",
       "\n",
       "    .dataframe thead th {\n",
       "        text-align: right;\n",
       "    }\n",
       "</style>\n",
       "<table border=\"1\" class=\"dataframe\">\n",
       "  <thead>\n",
       "    <tr style=\"text-align: right;\">\n",
       "      <th></th>\n",
       "      <th>id</th>\n",
       "      <th>name</th>\n",
       "      <th>start_date</th>\n",
       "      <th>end_date</th>\n",
       "      <th>program_id</th>\n",
       "      <th>request_date</th>\n",
       "      <th>request_time</th>\n",
       "      <th>path</th>\n",
       "      <th>user_id</th>\n",
       "      <th>ip</th>\n",
       "    </tr>\n",
       "  </thead>\n",
       "  <tbody>\n",
       "    <tr>\n",
       "      <th>0</th>\n",
       "      <td>8.0</td>\n",
       "      <td>Hampton</td>\n",
       "      <td>2015-09-22</td>\n",
       "      <td>2016-02-06</td>\n",
       "      <td>1.0</td>\n",
       "      <td>2018-01-26</td>\n",
       "      <td>09:55:03</td>\n",
       "      <td>/</td>\n",
       "      <td>1.0</td>\n",
       "      <td>97.105.19.61</td>\n",
       "    </tr>\n",
       "    <tr>\n",
       "      <th>1</th>\n",
       "      <td>8.0</td>\n",
       "      <td>Hampton</td>\n",
       "      <td>2015-09-22</td>\n",
       "      <td>2016-02-06</td>\n",
       "      <td>1.0</td>\n",
       "      <td>2018-01-26</td>\n",
       "      <td>09:56:02</td>\n",
       "      <td>java-ii</td>\n",
       "      <td>1.0</td>\n",
       "      <td>97.105.19.61</td>\n",
       "    </tr>\n",
       "    <tr>\n",
       "      <th>2</th>\n",
       "      <td>8.0</td>\n",
       "      <td>Hampton</td>\n",
       "      <td>2015-09-22</td>\n",
       "      <td>2016-02-06</td>\n",
       "      <td>1.0</td>\n",
       "      <td>2018-01-26</td>\n",
       "      <td>09:56:05</td>\n",
       "      <td>java-ii/object-oriented-programming</td>\n",
       "      <td>1.0</td>\n",
       "      <td>97.105.19.61</td>\n",
       "    </tr>\n",
       "    <tr>\n",
       "      <th>3</th>\n",
       "      <td>8.0</td>\n",
       "      <td>Hampton</td>\n",
       "      <td>2015-09-22</td>\n",
       "      <td>2016-02-06</td>\n",
       "      <td>1.0</td>\n",
       "      <td>2018-01-26</td>\n",
       "      <td>09:56:06</td>\n",
       "      <td>slides/object_oriented_programming</td>\n",
       "      <td>1.0</td>\n",
       "      <td>97.105.19.61</td>\n",
       "    </tr>\n",
       "    <tr>\n",
       "      <th>4</th>\n",
       "      <td>22.0</td>\n",
       "      <td>Teddy</td>\n",
       "      <td>2018-01-08</td>\n",
       "      <td>2018-05-17</td>\n",
       "      <td>2.0</td>\n",
       "      <td>2018-01-26</td>\n",
       "      <td>09:56:24</td>\n",
       "      <td>javascript-i/conditionals</td>\n",
       "      <td>2.0</td>\n",
       "      <td>97.105.19.61</td>\n",
       "    </tr>\n",
       "  </tbody>\n",
       "</table>\n",
       "</div>"
      ],
      "text/plain": [
       "     id     name  start_date    end_date  program_id request_date  \\\n",
       "0   8.0  Hampton  2015-09-22  2016-02-06         1.0   2018-01-26   \n",
       "1   8.0  Hampton  2015-09-22  2016-02-06         1.0   2018-01-26   \n",
       "2   8.0  Hampton  2015-09-22  2016-02-06         1.0   2018-01-26   \n",
       "3   8.0  Hampton  2015-09-22  2016-02-06         1.0   2018-01-26   \n",
       "4  22.0    Teddy  2018-01-08  2018-05-17         2.0   2018-01-26   \n",
       "\n",
       "  request_time                                 path  user_id            ip  \n",
       "0     09:55:03                                    /      1.0  97.105.19.61  \n",
       "1     09:56:02                              java-ii      1.0  97.105.19.61  \n",
       "2     09:56:05  java-ii/object-oriented-programming      1.0  97.105.19.61  \n",
       "3     09:56:06   slides/object_oriented_programming      1.0  97.105.19.61  \n",
       "4     09:56:24            javascript-i/conditionals      2.0  97.105.19.61  "
      ]
     },
     "execution_count": 6,
     "metadata": {},
     "output_type": "execute_result"
    }
   ],
   "source": [
    "df.head()"
   ]
  },
  {
   "cell_type": "code",
   "execution_count": 7,
   "id": "a0d7460c",
   "metadata": {},
   "outputs": [
    {
     "data": {
      "text/plain": [
       "2.0    687442\n",
       "3.0     96172\n",
       "1.0     30482\n",
       "4.0         5\n",
       "Name: program_id, dtype: int64"
      ]
     },
     "execution_count": 7,
     "metadata": {},
     "output_type": "execute_result"
    }
   ],
   "source": [
    "df['program_id'].value_counts()"
   ]
  },
  {
   "cell_type": "code",
   "execution_count": 8,
   "id": "3d9f7422",
   "metadata": {},
   "outputs": [
    {
     "data": {
      "text/plain": [
       "2.0    79513\n",
       "Name: program_id, dtype: int64"
      ]
     },
     "execution_count": 8,
     "metadata": {},
     "output_type": "execute_result"
    }
   ],
   "source": [
    "df[(df['name']=='Placeholder for students in transition')|(df['name']=='Staff')]['program_id'].value_counts()"
   ]
  },
  {
   "cell_type": "code",
   "execution_count": 9,
   "id": "eb2bd973",
   "metadata": {},
   "outputs": [
    {
     "data": {
      "text/plain": [
       "Series([], Name: program_id, dtype: int64)"
      ]
     },
     "execution_count": 9,
     "metadata": {},
     "output_type": "execute_result"
    }
   ],
   "source": [
    "df[df['name']=='Io'].program_id.value_counts()"
   ]
  },
  {
   "cell_type": "code",
   "execution_count": 10,
   "id": "75645380",
   "metadata": {},
   "outputs": [
    {
     "data": {
      "text/plain": [
       "Staff         79513\n",
       "Ceres         40711\n",
       "Zion          37980\n",
       "Fortuna       36892\n",
       "Jupiter       36396\n",
       "Voyageurs     35631\n",
       "Ganymede      33436\n",
       "Apex          33299\n",
       "Deimos        32106\n",
       "Darden        31507\n",
       "Teddy         30840\n",
       "Hyperion      29774\n",
       "Betelgeuse    29217\n",
       "Ulysses       28497\n",
       "Europa        27991\n",
       "Xanadu        27749\n",
       "Bayes         26400\n",
       "Wrangell      25573\n",
       "Andromeda     25355\n",
       "Kalypso       21965\n",
       "Curie         21393\n",
       "Yosemite      20729\n",
       "Bash          17410\n",
       "Luna          12677\n",
       "Easley        11964\n",
       "Marco         10191\n",
       "Lassen         9561\n",
       "Arches         8890\n",
       "Sequoia        7444\n",
       "Olympic        4926\n",
       "Florence       4908\n",
       "Kings          2836\n",
       "Neptune        2501\n",
       "Pinnacles      2119\n",
       "Hampton        1712\n",
       "Quincy         1234\n",
       "Niagara         755\n",
       "Mammoth         691\n",
       "Glacier         598\n",
       "Joshua          302\n",
       "Ike             253\n",
       "Badlands         93\n",
       "Franklin         72\n",
       "Apollo            5\n",
       "Denali            4\n",
       "Everglades        1\n",
       "Name: name, dtype: int64"
      ]
     },
     "execution_count": 10,
     "metadata": {},
     "output_type": "execute_result"
    }
   ],
   "source": [
    "df['name'].value_counts()"
   ]
  },
  {
   "cell_type": "code",
   "execution_count": 11,
   "id": "45f5d86e",
   "metadata": {},
   "outputs": [],
   "source": [
    "#program id 1"
   ]
  },
  {
   "cell_type": "code",
   "execution_count": 12,
   "id": "ba62fcba",
   "metadata": {
    "scrolled": true
   },
   "outputs": [
    {
     "data": {
      "text/plain": [
       "'2017-06-05'"
      ]
     },
     "execution_count": 12,
     "metadata": {},
     "output_type": "execute_result"
    }
   ],
   "source": [
    "df[df['program_id']==1].start_date.max()"
   ]
  },
  {
   "cell_type": "code",
   "execution_count": 13,
   "id": "924bc41e",
   "metadata": {},
   "outputs": [
    {
     "data": {
      "text/plain": [
       "'2014-02-04'"
      ]
     },
     "execution_count": 13,
     "metadata": {},
     "output_type": "execute_result"
    }
   ],
   "source": [
    "df[df['program_id']==1].start_date.min()"
   ]
  },
  {
   "cell_type": "code",
   "execution_count": 14,
   "id": "243b3254",
   "metadata": {},
   "outputs": [],
   "source": [
    "#program id 2"
   ]
  },
  {
   "cell_type": "code",
   "execution_count": 15,
   "id": "a5874f88",
   "metadata": {},
   "outputs": [
    {
     "data": {
      "text/plain": [
       "'2021-03-15'"
      ]
     },
     "execution_count": 15,
     "metadata": {},
     "output_type": "execute_result"
    }
   ],
   "source": [
    "df[df['program_id']==2].start_date.max()"
   ]
  },
  {
   "cell_type": "code",
   "execution_count": 16,
   "id": "8f710214",
   "metadata": {},
   "outputs": [
    {
     "data": {
      "text/plain": [
       "'2014-02-04'"
      ]
     },
     "execution_count": 16,
     "metadata": {},
     "output_type": "execute_result"
    }
   ],
   "source": [
    "df[df['program_id']==2].start_date.min()"
   ]
  },
  {
   "cell_type": "code",
   "execution_count": 17,
   "id": "8cf3bc0b",
   "metadata": {},
   "outputs": [],
   "source": [
    "#Program id 3"
   ]
  },
  {
   "cell_type": "code",
   "execution_count": 18,
   "id": "d67115e6",
   "metadata": {
    "scrolled": true
   },
   "outputs": [
    {
     "data": {
      "text/plain": [
       "'2021-03-15'"
      ]
     },
     "execution_count": 18,
     "metadata": {},
     "output_type": "execute_result"
    }
   ],
   "source": [
    "df[df['program_id']==3].start_date.max()"
   ]
  },
  {
   "cell_type": "code",
   "execution_count": 19,
   "id": "036b9f5f",
   "metadata": {},
   "outputs": [
    {
     "data": {
      "text/plain": [
       "'2019-08-19'"
      ]
     },
     "execution_count": 19,
     "metadata": {},
     "output_type": "execute_result"
    }
   ],
   "source": [
    "df[df['program_id']==3].start_date.min()"
   ]
  },
  {
   "cell_type": "code",
   "execution_count": 20,
   "id": "b95aaf67",
   "metadata": {},
   "outputs": [],
   "source": [
    "#program id 4"
   ]
  },
  {
   "cell_type": "code",
   "execution_count": 21,
   "id": "052c5b92",
   "metadata": {
    "scrolled": true
   },
   "outputs": [
    {
     "data": {
      "text/plain": [
       "'2015-03-30'"
      ]
     },
     "execution_count": 21,
     "metadata": {},
     "output_type": "execute_result"
    }
   ],
   "source": [
    "df[df['program_id']==4].start_date.max()"
   ]
  },
  {
   "cell_type": "code",
   "execution_count": 22,
   "id": "69d287ee",
   "metadata": {
    "scrolled": true
   },
   "outputs": [
    {
     "data": {
      "text/plain": [
       "'2015-03-30'"
      ]
     },
     "execution_count": 22,
     "metadata": {},
     "output_type": "execute_result"
    }
   ],
   "source": [
    "df[df['program_id']==4].start_date.min()"
   ]
  },
  {
   "cell_type": "markdown",
   "id": "b1c40e43",
   "metadata": {},
   "source": [
    "**program id 4 looks like it was only used for one cohort**"
   ]
  },
  {
   "cell_type": "code",
   "execution_count": 23,
   "id": "82920a33",
   "metadata": {},
   "outputs": [],
   "source": [
    "#Ada was the first datascience cohort, id: 3"
   ]
  },
  {
   "cell_type": "code",
   "execution_count": 24,
   "id": "f9d84bf9",
   "metadata": {},
   "outputs": [
    {
     "data": {
      "text/plain": [
       "nan"
      ]
     },
     "execution_count": 24,
     "metadata": {},
     "output_type": "execute_result"
    }
   ],
   "source": [
    "df[df['name']=='Ada'].start_date.min()"
   ]
  },
  {
   "cell_type": "code",
   "execution_count": 25,
   "id": "6129ef41",
   "metadata": {},
   "outputs": [
    {
     "data": {
      "text/plain": [
       "Darden      31507\n",
       "Bayes       26400\n",
       "Curie       21393\n",
       "Easley      11964\n",
       "Florence     4908\n",
       "Name: name, dtype: int64"
      ]
     },
     "execution_count": 25,
     "metadata": {},
     "output_type": "execute_result"
    }
   ],
   "source": [
    "df[df['program_id']==3]['name'].value_counts()"
   ]
  },
  {
   "cell_type": "code",
   "execution_count": 26,
   "id": "1276713f",
   "metadata": {},
   "outputs": [
    {
     "data": {
      "text/plain": [
       "0         False\n",
       "1         False\n",
       "2         False\n",
       "3         False\n",
       "4         False\n",
       "          ...  \n",
       "866742    False\n",
       "866743    False\n",
       "866744    False\n",
       "866745    False\n",
       "866746      NaN\n",
       "Name: start_date, Length: 866747, dtype: object"
      ]
     },
     "execution_count": 26,
     "metadata": {},
     "output_type": "execute_result"
    }
   ],
   "source": [
    "df.start_date.str.startswith('2019')"
   ]
  },
  {
   "cell_type": "code",
   "execution_count": 27,
   "id": "a8c91d0c",
   "metadata": {},
   "outputs": [
    {
     "data": {
      "text/plain": [
       "52646"
      ]
     },
     "execution_count": 27,
     "metadata": {},
     "output_type": "execute_result"
    }
   ],
   "source": [
    "df['start_date'].isna().sum()"
   ]
  },
  {
   "cell_type": "code",
   "execution_count": 28,
   "id": "3fe50049",
   "metadata": {},
   "outputs": [],
   "source": [
    "df=df.dropna()"
   ]
  },
  {
   "cell_type": "code",
   "execution_count": 29,
   "id": "a4309fa9",
   "metadata": {},
   "outputs": [
    {
     "data": {
      "text/plain": [
       "0         False\n",
       "1         False\n",
       "2         False\n",
       "3         False\n",
       "4         False\n",
       "          ...  \n",
       "866741    False\n",
       "866742    False\n",
       "866743    False\n",
       "866744    False\n",
       "866745    False\n",
       "Name: start_date, Length: 814100, dtype: bool"
      ]
     },
     "execution_count": 29,
     "metadata": {},
     "output_type": "execute_result"
    }
   ],
   "source": [
    "df.start_date.str.startswith('2019')"
   ]
  },
  {
   "cell_type": "markdown",
   "id": "e35e7293",
   "metadata": {},
   "source": [
    "## focus start_date"
   ]
  },
  {
   "cell_type": "code",
   "execution_count": 30,
   "id": "1218c726",
   "metadata": {},
   "outputs": [],
   "source": [
    "df.request_date = pd.to_datetime(df.request_date)\n",
    "df = df.set_index(df.request_date)"
   ]
  },
  {
   "cell_type": "code",
   "execution_count": 31,
   "id": "0353f729",
   "metadata": {},
   "outputs": [
    {
     "data": {
      "text/html": [
       "<div>\n",
       "<style scoped>\n",
       "    .dataframe tbody tr th:only-of-type {\n",
       "        vertical-align: middle;\n",
       "    }\n",
       "\n",
       "    .dataframe tbody tr th {\n",
       "        vertical-align: top;\n",
       "    }\n",
       "\n",
       "    .dataframe thead th {\n",
       "        text-align: right;\n",
       "    }\n",
       "</style>\n",
       "<table border=\"1\" class=\"dataframe\">\n",
       "  <thead>\n",
       "    <tr style=\"text-align: right;\">\n",
       "      <th></th>\n",
       "      <th>id</th>\n",
       "      <th>name</th>\n",
       "      <th>start_date</th>\n",
       "      <th>end_date</th>\n",
       "      <th>program_id</th>\n",
       "      <th>request_date</th>\n",
       "      <th>request_time</th>\n",
       "      <th>path</th>\n",
       "      <th>user_id</th>\n",
       "      <th>ip</th>\n",
       "    </tr>\n",
       "    <tr>\n",
       "      <th>request_date</th>\n",
       "      <th></th>\n",
       "      <th></th>\n",
       "      <th></th>\n",
       "      <th></th>\n",
       "      <th></th>\n",
       "      <th></th>\n",
       "      <th></th>\n",
       "      <th></th>\n",
       "      <th></th>\n",
       "      <th></th>\n",
       "    </tr>\n",
       "  </thead>\n",
       "  <tbody>\n",
       "    <tr>\n",
       "      <th>2018-01-26</th>\n",
       "      <td>8.0</td>\n",
       "      <td>Hampton</td>\n",
       "      <td>2015-09-22</td>\n",
       "      <td>2016-02-06</td>\n",
       "      <td>1.0</td>\n",
       "      <td>2018-01-26</td>\n",
       "      <td>09:55:03</td>\n",
       "      <td>/</td>\n",
       "      <td>1.0</td>\n",
       "      <td>97.105.19.61</td>\n",
       "    </tr>\n",
       "    <tr>\n",
       "      <th>2018-01-26</th>\n",
       "      <td>8.0</td>\n",
       "      <td>Hampton</td>\n",
       "      <td>2015-09-22</td>\n",
       "      <td>2016-02-06</td>\n",
       "      <td>1.0</td>\n",
       "      <td>2018-01-26</td>\n",
       "      <td>09:56:02</td>\n",
       "      <td>java-ii</td>\n",
       "      <td>1.0</td>\n",
       "      <td>97.105.19.61</td>\n",
       "    </tr>\n",
       "    <tr>\n",
       "      <th>2018-01-26</th>\n",
       "      <td>8.0</td>\n",
       "      <td>Hampton</td>\n",
       "      <td>2015-09-22</td>\n",
       "      <td>2016-02-06</td>\n",
       "      <td>1.0</td>\n",
       "      <td>2018-01-26</td>\n",
       "      <td>09:56:05</td>\n",
       "      <td>java-ii/object-oriented-programming</td>\n",
       "      <td>1.0</td>\n",
       "      <td>97.105.19.61</td>\n",
       "    </tr>\n",
       "    <tr>\n",
       "      <th>2018-01-26</th>\n",
       "      <td>8.0</td>\n",
       "      <td>Hampton</td>\n",
       "      <td>2015-09-22</td>\n",
       "      <td>2016-02-06</td>\n",
       "      <td>1.0</td>\n",
       "      <td>2018-01-26</td>\n",
       "      <td>09:56:06</td>\n",
       "      <td>slides/object_oriented_programming</td>\n",
       "      <td>1.0</td>\n",
       "      <td>97.105.19.61</td>\n",
       "    </tr>\n",
       "    <tr>\n",
       "      <th>2018-01-26</th>\n",
       "      <td>22.0</td>\n",
       "      <td>Teddy</td>\n",
       "      <td>2018-01-08</td>\n",
       "      <td>2018-05-17</td>\n",
       "      <td>2.0</td>\n",
       "      <td>2018-01-26</td>\n",
       "      <td>09:56:24</td>\n",
       "      <td>javascript-i/conditionals</td>\n",
       "      <td>2.0</td>\n",
       "      <td>97.105.19.61</td>\n",
       "    </tr>\n",
       "  </tbody>\n",
       "</table>\n",
       "</div>"
      ],
      "text/plain": [
       "                id     name  start_date    end_date  program_id request_date  \\\n",
       "request_date                                                                   \n",
       "2018-01-26     8.0  Hampton  2015-09-22  2016-02-06         1.0   2018-01-26   \n",
       "2018-01-26     8.0  Hampton  2015-09-22  2016-02-06         1.0   2018-01-26   \n",
       "2018-01-26     8.0  Hampton  2015-09-22  2016-02-06         1.0   2018-01-26   \n",
       "2018-01-26     8.0  Hampton  2015-09-22  2016-02-06         1.0   2018-01-26   \n",
       "2018-01-26    22.0    Teddy  2018-01-08  2018-05-17         2.0   2018-01-26   \n",
       "\n",
       "             request_time                                 path  user_id  \\\n",
       "request_date                                                              \n",
       "2018-01-26       09:55:03                                    /      1.0   \n",
       "2018-01-26       09:56:02                              java-ii      1.0   \n",
       "2018-01-26       09:56:05  java-ii/object-oriented-programming      1.0   \n",
       "2018-01-26       09:56:06   slides/object_oriented_programming      1.0   \n",
       "2018-01-26       09:56:24            javascript-i/conditionals      2.0   \n",
       "\n",
       "                        ip  \n",
       "request_date                \n",
       "2018-01-26    97.105.19.61  \n",
       "2018-01-26    97.105.19.61  \n",
       "2018-01-26    97.105.19.61  \n",
       "2018-01-26    97.105.19.61  \n",
       "2018-01-26    97.105.19.61  "
      ]
     },
     "execution_count": 31,
     "metadata": {},
     "output_type": "execute_result"
    }
   ],
   "source": [
    "df.head()"
   ]
  },
  {
   "cell_type": "code",
   "execution_count": 32,
   "id": "1b5f5899",
   "metadata": {},
   "outputs": [
    {
     "data": {
      "text/plain": [
       "request_date\n",
       "2018-12-31    171509\n",
       "2019-12-31    223242\n",
       "2020-12-31    327419\n",
       "2021-12-31     91930\n",
       "Freq: A-DEC, Name: path, dtype: int64"
      ]
     },
     "execution_count": 32,
     "metadata": {},
     "output_type": "execute_result"
    }
   ],
   "source": [
    "df['path'].resample('Y').count()"
   ]
  },
  {
   "cell_type": "code",
   "execution_count": 33,
   "id": "7285143a",
   "metadata": {},
   "outputs": [],
   "source": [
    "df['year'] = df.request_date.dt.year"
   ]
  },
  {
   "cell_type": "code",
   "execution_count": 34,
   "id": "aa2a5fd5",
   "metadata": {},
   "outputs": [
    {
     "data": {
      "text/html": [
       "<div>\n",
       "<style scoped>\n",
       "    .dataframe tbody tr th:only-of-type {\n",
       "        vertical-align: middle;\n",
       "    }\n",
       "\n",
       "    .dataframe tbody tr th {\n",
       "        vertical-align: top;\n",
       "    }\n",
       "\n",
       "    .dataframe thead th {\n",
       "        text-align: right;\n",
       "    }\n",
       "</style>\n",
       "<table border=\"1\" class=\"dataframe\">\n",
       "  <thead>\n",
       "    <tr style=\"text-align: right;\">\n",
       "      <th></th>\n",
       "      <th>id</th>\n",
       "      <th>name</th>\n",
       "      <th>start_date</th>\n",
       "      <th>end_date</th>\n",
       "      <th>program_id</th>\n",
       "      <th>request_date</th>\n",
       "      <th>request_time</th>\n",
       "      <th>path</th>\n",
       "      <th>user_id</th>\n",
       "      <th>ip</th>\n",
       "      <th>year</th>\n",
       "    </tr>\n",
       "    <tr>\n",
       "      <th>request_date</th>\n",
       "      <th></th>\n",
       "      <th></th>\n",
       "      <th></th>\n",
       "      <th></th>\n",
       "      <th></th>\n",
       "      <th></th>\n",
       "      <th></th>\n",
       "      <th></th>\n",
       "      <th></th>\n",
       "      <th></th>\n",
       "      <th></th>\n",
       "    </tr>\n",
       "  </thead>\n",
       "  <tbody>\n",
       "    <tr>\n",
       "      <th>2018-01-26</th>\n",
       "      <td>8.0</td>\n",
       "      <td>Hampton</td>\n",
       "      <td>2015-09-22</td>\n",
       "      <td>2016-02-06</td>\n",
       "      <td>1.0</td>\n",
       "      <td>2018-01-26</td>\n",
       "      <td>09:55:03</td>\n",
       "      <td>/</td>\n",
       "      <td>1.0</td>\n",
       "      <td>97.105.19.61</td>\n",
       "      <td>2018</td>\n",
       "    </tr>\n",
       "    <tr>\n",
       "      <th>2018-01-26</th>\n",
       "      <td>8.0</td>\n",
       "      <td>Hampton</td>\n",
       "      <td>2015-09-22</td>\n",
       "      <td>2016-02-06</td>\n",
       "      <td>1.0</td>\n",
       "      <td>2018-01-26</td>\n",
       "      <td>09:56:02</td>\n",
       "      <td>java-ii</td>\n",
       "      <td>1.0</td>\n",
       "      <td>97.105.19.61</td>\n",
       "      <td>2018</td>\n",
       "    </tr>\n",
       "    <tr>\n",
       "      <th>2018-01-26</th>\n",
       "      <td>8.0</td>\n",
       "      <td>Hampton</td>\n",
       "      <td>2015-09-22</td>\n",
       "      <td>2016-02-06</td>\n",
       "      <td>1.0</td>\n",
       "      <td>2018-01-26</td>\n",
       "      <td>09:56:05</td>\n",
       "      <td>java-ii/object-oriented-programming</td>\n",
       "      <td>1.0</td>\n",
       "      <td>97.105.19.61</td>\n",
       "      <td>2018</td>\n",
       "    </tr>\n",
       "    <tr>\n",
       "      <th>2018-01-26</th>\n",
       "      <td>8.0</td>\n",
       "      <td>Hampton</td>\n",
       "      <td>2015-09-22</td>\n",
       "      <td>2016-02-06</td>\n",
       "      <td>1.0</td>\n",
       "      <td>2018-01-26</td>\n",
       "      <td>09:56:06</td>\n",
       "      <td>slides/object_oriented_programming</td>\n",
       "      <td>1.0</td>\n",
       "      <td>97.105.19.61</td>\n",
       "      <td>2018</td>\n",
       "    </tr>\n",
       "    <tr>\n",
       "      <th>2018-01-26</th>\n",
       "      <td>22.0</td>\n",
       "      <td>Teddy</td>\n",
       "      <td>2018-01-08</td>\n",
       "      <td>2018-05-17</td>\n",
       "      <td>2.0</td>\n",
       "      <td>2018-01-26</td>\n",
       "      <td>09:56:24</td>\n",
       "      <td>javascript-i/conditionals</td>\n",
       "      <td>2.0</td>\n",
       "      <td>97.105.19.61</td>\n",
       "      <td>2018</td>\n",
       "    </tr>\n",
       "  </tbody>\n",
       "</table>\n",
       "</div>"
      ],
      "text/plain": [
       "                id     name  start_date    end_date  program_id request_date  \\\n",
       "request_date                                                                   \n",
       "2018-01-26     8.0  Hampton  2015-09-22  2016-02-06         1.0   2018-01-26   \n",
       "2018-01-26     8.0  Hampton  2015-09-22  2016-02-06         1.0   2018-01-26   \n",
       "2018-01-26     8.0  Hampton  2015-09-22  2016-02-06         1.0   2018-01-26   \n",
       "2018-01-26     8.0  Hampton  2015-09-22  2016-02-06         1.0   2018-01-26   \n",
       "2018-01-26    22.0    Teddy  2018-01-08  2018-05-17         2.0   2018-01-26   \n",
       "\n",
       "             request_time                                 path  user_id  \\\n",
       "request_date                                                              \n",
       "2018-01-26       09:55:03                                    /      1.0   \n",
       "2018-01-26       09:56:02                              java-ii      1.0   \n",
       "2018-01-26       09:56:05  java-ii/object-oriented-programming      1.0   \n",
       "2018-01-26       09:56:06   slides/object_oriented_programming      1.0   \n",
       "2018-01-26       09:56:24            javascript-i/conditionals      2.0   \n",
       "\n",
       "                        ip  year  \n",
       "request_date                      \n",
       "2018-01-26    97.105.19.61  2018  \n",
       "2018-01-26    97.105.19.61  2018  \n",
       "2018-01-26    97.105.19.61  2018  \n",
       "2018-01-26    97.105.19.61  2018  \n",
       "2018-01-26    97.105.19.61  2018  "
      ]
     },
     "execution_count": 34,
     "metadata": {},
     "output_type": "execute_result"
    }
   ],
   "source": [
    "df.head()"
   ]
  },
  {
   "cell_type": "code",
   "execution_count": 35,
   "id": "8bf93274",
   "metadata": {},
   "outputs": [],
   "source": [
    "my_df=df[(df['year']==2018)|(df['year']==2019)|(df['year']==2020)]"
   ]
  },
  {
   "cell_type": "code",
   "execution_count": 36,
   "id": "b71c1dc1",
   "metadata": {},
   "outputs": [
    {
     "data": {
      "text/plain": [
       "(722170, 11)"
      ]
     },
     "execution_count": 36,
     "metadata": {},
     "output_type": "execute_result"
    }
   ],
   "source": [
    "my_df.shape"
   ]
  },
  {
   "cell_type": "code",
   "execution_count": 37,
   "id": "8809de2a",
   "metadata": {
    "scrolled": true
   },
   "outputs": [
    {
     "data": {
      "text/html": [
       "<div>\n",
       "<style scoped>\n",
       "    .dataframe tbody tr th:only-of-type {\n",
       "        vertical-align: middle;\n",
       "    }\n",
       "\n",
       "    .dataframe tbody tr th {\n",
       "        vertical-align: top;\n",
       "    }\n",
       "\n",
       "    .dataframe thead th {\n",
       "        text-align: right;\n",
       "    }\n",
       "</style>\n",
       "<table border=\"1\" class=\"dataframe\">\n",
       "  <thead>\n",
       "    <tr style=\"text-align: right;\">\n",
       "      <th></th>\n",
       "      <th>id</th>\n",
       "      <th>name</th>\n",
       "      <th>start_date</th>\n",
       "      <th>end_date</th>\n",
       "      <th>program_id</th>\n",
       "      <th>request_date</th>\n",
       "      <th>request_time</th>\n",
       "      <th>path</th>\n",
       "      <th>user_id</th>\n",
       "      <th>ip</th>\n",
       "      <th>year</th>\n",
       "    </tr>\n",
       "    <tr>\n",
       "      <th>request_date</th>\n",
       "      <th></th>\n",
       "      <th></th>\n",
       "      <th></th>\n",
       "      <th></th>\n",
       "      <th></th>\n",
       "      <th></th>\n",
       "      <th></th>\n",
       "      <th></th>\n",
       "      <th></th>\n",
       "      <th></th>\n",
       "      <th></th>\n",
       "    </tr>\n",
       "  </thead>\n",
       "  <tbody>\n",
       "    <tr>\n",
       "      <th>2018-01-26</th>\n",
       "      <td>8.0</td>\n",
       "      <td>Hampton</td>\n",
       "      <td>2015-09-22</td>\n",
       "      <td>2016-02-06</td>\n",
       "      <td>1.0</td>\n",
       "      <td>2018-01-26</td>\n",
       "      <td>09:55:03</td>\n",
       "      <td>/</td>\n",
       "      <td>1.0</td>\n",
       "      <td>97.105.19.61</td>\n",
       "      <td>2018</td>\n",
       "    </tr>\n",
       "    <tr>\n",
       "      <th>2018-01-26</th>\n",
       "      <td>8.0</td>\n",
       "      <td>Hampton</td>\n",
       "      <td>2015-09-22</td>\n",
       "      <td>2016-02-06</td>\n",
       "      <td>1.0</td>\n",
       "      <td>2018-01-26</td>\n",
       "      <td>09:56:02</td>\n",
       "      <td>java-ii</td>\n",
       "      <td>1.0</td>\n",
       "      <td>97.105.19.61</td>\n",
       "      <td>2018</td>\n",
       "    </tr>\n",
       "    <tr>\n",
       "      <th>2018-01-26</th>\n",
       "      <td>8.0</td>\n",
       "      <td>Hampton</td>\n",
       "      <td>2015-09-22</td>\n",
       "      <td>2016-02-06</td>\n",
       "      <td>1.0</td>\n",
       "      <td>2018-01-26</td>\n",
       "      <td>09:56:05</td>\n",
       "      <td>java-ii/object-oriented-programming</td>\n",
       "      <td>1.0</td>\n",
       "      <td>97.105.19.61</td>\n",
       "      <td>2018</td>\n",
       "    </tr>\n",
       "    <tr>\n",
       "      <th>2018-01-26</th>\n",
       "      <td>8.0</td>\n",
       "      <td>Hampton</td>\n",
       "      <td>2015-09-22</td>\n",
       "      <td>2016-02-06</td>\n",
       "      <td>1.0</td>\n",
       "      <td>2018-01-26</td>\n",
       "      <td>09:56:06</td>\n",
       "      <td>slides/object_oriented_programming</td>\n",
       "      <td>1.0</td>\n",
       "      <td>97.105.19.61</td>\n",
       "      <td>2018</td>\n",
       "    </tr>\n",
       "    <tr>\n",
       "      <th>2018-01-26</th>\n",
       "      <td>22.0</td>\n",
       "      <td>Teddy</td>\n",
       "      <td>2018-01-08</td>\n",
       "      <td>2018-05-17</td>\n",
       "      <td>2.0</td>\n",
       "      <td>2018-01-26</td>\n",
       "      <td>09:56:24</td>\n",
       "      <td>javascript-i/conditionals</td>\n",
       "      <td>2.0</td>\n",
       "      <td>97.105.19.61</td>\n",
       "      <td>2018</td>\n",
       "    </tr>\n",
       "  </tbody>\n",
       "</table>\n",
       "</div>"
      ],
      "text/plain": [
       "                id     name  start_date    end_date  program_id request_date  \\\n",
       "request_date                                                                   \n",
       "2018-01-26     8.0  Hampton  2015-09-22  2016-02-06         1.0   2018-01-26   \n",
       "2018-01-26     8.0  Hampton  2015-09-22  2016-02-06         1.0   2018-01-26   \n",
       "2018-01-26     8.0  Hampton  2015-09-22  2016-02-06         1.0   2018-01-26   \n",
       "2018-01-26     8.0  Hampton  2015-09-22  2016-02-06         1.0   2018-01-26   \n",
       "2018-01-26    22.0    Teddy  2018-01-08  2018-05-17         2.0   2018-01-26   \n",
       "\n",
       "             request_time                                 path  user_id  \\\n",
       "request_date                                                              \n",
       "2018-01-26       09:55:03                                    /      1.0   \n",
       "2018-01-26       09:56:02                              java-ii      1.0   \n",
       "2018-01-26       09:56:05  java-ii/object-oriented-programming      1.0   \n",
       "2018-01-26       09:56:06   slides/object_oriented_programming      1.0   \n",
       "2018-01-26       09:56:24            javascript-i/conditionals      2.0   \n",
       "\n",
       "                        ip  year  \n",
       "request_date                      \n",
       "2018-01-26    97.105.19.61  2018  \n",
       "2018-01-26    97.105.19.61  2018  \n",
       "2018-01-26    97.105.19.61  2018  \n",
       "2018-01-26    97.105.19.61  2018  \n",
       "2018-01-26    97.105.19.61  2018  "
      ]
     },
     "execution_count": 37,
     "metadata": {},
     "output_type": "execute_result"
    }
   ],
   "source": [
    "my_df.head()"
   ]
  },
  {
   "cell_type": "code",
   "execution_count": 38,
   "id": "91888e91",
   "metadata": {
    "scrolled": false
   },
   "outputs": [
    {
     "data": {
      "text/html": [
       "<div>\n",
       "<style scoped>\n",
       "    .dataframe tbody tr th:only-of-type {\n",
       "        vertical-align: middle;\n",
       "    }\n",
       "\n",
       "    .dataframe tbody tr th {\n",
       "        vertical-align: top;\n",
       "    }\n",
       "\n",
       "    .dataframe thead th {\n",
       "        text-align: right;\n",
       "    }\n",
       "</style>\n",
       "<table border=\"1\" class=\"dataframe\">\n",
       "  <thead>\n",
       "    <tr style=\"text-align: right;\">\n",
       "      <th></th>\n",
       "      <th>id</th>\n",
       "      <th>name</th>\n",
       "      <th>start_date</th>\n",
       "      <th>end_date</th>\n",
       "      <th>program_id</th>\n",
       "      <th>request_date</th>\n",
       "      <th>request_time</th>\n",
       "      <th>path</th>\n",
       "      <th>user_id</th>\n",
       "      <th>ip</th>\n",
       "      <th>year</th>\n",
       "    </tr>\n",
       "    <tr>\n",
       "      <th>request_date</th>\n",
       "      <th></th>\n",
       "      <th></th>\n",
       "      <th></th>\n",
       "      <th></th>\n",
       "      <th></th>\n",
       "      <th></th>\n",
       "      <th></th>\n",
       "      <th></th>\n",
       "      <th></th>\n",
       "      <th></th>\n",
       "      <th></th>\n",
       "    </tr>\n",
       "  </thead>\n",
       "  <tbody>\n",
       "    <tr>\n",
       "      <th>2018-01-31</th>\n",
       "      <td>3092</td>\n",
       "      <td>3092</td>\n",
       "      <td>3092</td>\n",
       "      <td>3092</td>\n",
       "      <td>3092</td>\n",
       "      <td>3092</td>\n",
       "      <td>3092</td>\n",
       "      <td>3092</td>\n",
       "      <td>3092</td>\n",
       "      <td>3092</td>\n",
       "      <td>3092</td>\n",
       "    </tr>\n",
       "    <tr>\n",
       "      <th>2018-02-28</th>\n",
       "      <td>13001</td>\n",
       "      <td>13001</td>\n",
       "      <td>13001</td>\n",
       "      <td>13001</td>\n",
       "      <td>13001</td>\n",
       "      <td>13001</td>\n",
       "      <td>13001</td>\n",
       "      <td>13001</td>\n",
       "      <td>13001</td>\n",
       "      <td>13001</td>\n",
       "      <td>13001</td>\n",
       "    </tr>\n",
       "    <tr>\n",
       "      <th>2018-03-31</th>\n",
       "      <td>18991</td>\n",
       "      <td>18991</td>\n",
       "      <td>18991</td>\n",
       "      <td>18991</td>\n",
       "      <td>18991</td>\n",
       "      <td>18991</td>\n",
       "      <td>18991</td>\n",
       "      <td>18991</td>\n",
       "      <td>18991</td>\n",
       "      <td>18991</td>\n",
       "      <td>18991</td>\n",
       "    </tr>\n",
       "    <tr>\n",
       "      <th>2018-04-30</th>\n",
       "      <td>13687</td>\n",
       "      <td>13687</td>\n",
       "      <td>13687</td>\n",
       "      <td>13687</td>\n",
       "      <td>13687</td>\n",
       "      <td>13687</td>\n",
       "      <td>13687</td>\n",
       "      <td>13687</td>\n",
       "      <td>13687</td>\n",
       "      <td>13687</td>\n",
       "      <td>13687</td>\n",
       "    </tr>\n",
       "    <tr>\n",
       "      <th>2018-05-31</th>\n",
       "      <td>11279</td>\n",
       "      <td>11279</td>\n",
       "      <td>11279</td>\n",
       "      <td>11279</td>\n",
       "      <td>11279</td>\n",
       "      <td>11279</td>\n",
       "      <td>11279</td>\n",
       "      <td>11279</td>\n",
       "      <td>11279</td>\n",
       "      <td>11279</td>\n",
       "      <td>11279</td>\n",
       "    </tr>\n",
       "    <tr>\n",
       "      <th>2018-06-30</th>\n",
       "      <td>16870</td>\n",
       "      <td>16870</td>\n",
       "      <td>16870</td>\n",
       "      <td>16870</td>\n",
       "      <td>16870</td>\n",
       "      <td>16870</td>\n",
       "      <td>16870</td>\n",
       "      <td>16870</td>\n",
       "      <td>16870</td>\n",
       "      <td>16870</td>\n",
       "      <td>16870</td>\n",
       "    </tr>\n",
       "    <tr>\n",
       "      <th>2018-07-31</th>\n",
       "      <td>14651</td>\n",
       "      <td>14651</td>\n",
       "      <td>14651</td>\n",
       "      <td>14651</td>\n",
       "      <td>14651</td>\n",
       "      <td>14651</td>\n",
       "      <td>14651</td>\n",
       "      <td>14651</td>\n",
       "      <td>14651</td>\n",
       "      <td>14651</td>\n",
       "      <td>14651</td>\n",
       "    </tr>\n",
       "    <tr>\n",
       "      <th>2018-08-31</th>\n",
       "      <td>22245</td>\n",
       "      <td>22245</td>\n",
       "      <td>22245</td>\n",
       "      <td>22245</td>\n",
       "      <td>22245</td>\n",
       "      <td>22245</td>\n",
       "      <td>22245</td>\n",
       "      <td>22245</td>\n",
       "      <td>22245</td>\n",
       "      <td>22245</td>\n",
       "      <td>22245</td>\n",
       "    </tr>\n",
       "    <tr>\n",
       "      <th>2018-09-30</th>\n",
       "      <td>14943</td>\n",
       "      <td>14943</td>\n",
       "      <td>14943</td>\n",
       "      <td>14943</td>\n",
       "      <td>14943</td>\n",
       "      <td>14943</td>\n",
       "      <td>14943</td>\n",
       "      <td>14943</td>\n",
       "      <td>14943</td>\n",
       "      <td>14943</td>\n",
       "      <td>14943</td>\n",
       "    </tr>\n",
       "    <tr>\n",
       "      <th>2018-10-31</th>\n",
       "      <td>15477</td>\n",
       "      <td>15477</td>\n",
       "      <td>15477</td>\n",
       "      <td>15477</td>\n",
       "      <td>15477</td>\n",
       "      <td>15477</td>\n",
       "      <td>15477</td>\n",
       "      <td>15477</td>\n",
       "      <td>15477</td>\n",
       "      <td>15477</td>\n",
       "      <td>15477</td>\n",
       "    </tr>\n",
       "    <tr>\n",
       "      <th>2018-11-30</th>\n",
       "      <td>14516</td>\n",
       "      <td>14516</td>\n",
       "      <td>14516</td>\n",
       "      <td>14516</td>\n",
       "      <td>14516</td>\n",
       "      <td>14516</td>\n",
       "      <td>14516</td>\n",
       "      <td>14516</td>\n",
       "      <td>14516</td>\n",
       "      <td>14516</td>\n",
       "      <td>14516</td>\n",
       "    </tr>\n",
       "    <tr>\n",
       "      <th>2018-12-31</th>\n",
       "      <td>12757</td>\n",
       "      <td>12757</td>\n",
       "      <td>12757</td>\n",
       "      <td>12757</td>\n",
       "      <td>12757</td>\n",
       "      <td>12757</td>\n",
       "      <td>12757</td>\n",
       "      <td>12757</td>\n",
       "      <td>12757</td>\n",
       "      <td>12757</td>\n",
       "      <td>12757</td>\n",
       "    </tr>\n",
       "    <tr>\n",
       "      <th>2019-01-31</th>\n",
       "      <td>13345</td>\n",
       "      <td>13345</td>\n",
       "      <td>13345</td>\n",
       "      <td>13345</td>\n",
       "      <td>13345</td>\n",
       "      <td>13345</td>\n",
       "      <td>13345</td>\n",
       "      <td>13345</td>\n",
       "      <td>13345</td>\n",
       "      <td>13345</td>\n",
       "      <td>13345</td>\n",
       "    </tr>\n",
       "    <tr>\n",
       "      <th>2019-02-28</th>\n",
       "      <td>15884</td>\n",
       "      <td>15884</td>\n",
       "      <td>15884</td>\n",
       "      <td>15884</td>\n",
       "      <td>15884</td>\n",
       "      <td>15884</td>\n",
       "      <td>15884</td>\n",
       "      <td>15884</td>\n",
       "      <td>15884</td>\n",
       "      <td>15884</td>\n",
       "      <td>15884</td>\n",
       "    </tr>\n",
       "    <tr>\n",
       "      <th>2019-03-31</th>\n",
       "      <td>17312</td>\n",
       "      <td>17312</td>\n",
       "      <td>17312</td>\n",
       "      <td>17312</td>\n",
       "      <td>17312</td>\n",
       "      <td>17312</td>\n",
       "      <td>17312</td>\n",
       "      <td>17312</td>\n",
       "      <td>17312</td>\n",
       "      <td>17312</td>\n",
       "      <td>17312</td>\n",
       "    </tr>\n",
       "    <tr>\n",
       "      <th>2019-04-30</th>\n",
       "      <td>19158</td>\n",
       "      <td>19158</td>\n",
       "      <td>19158</td>\n",
       "      <td>19158</td>\n",
       "      <td>19158</td>\n",
       "      <td>19158</td>\n",
       "      <td>19158</td>\n",
       "      <td>19158</td>\n",
       "      <td>19158</td>\n",
       "      <td>19158</td>\n",
       "      <td>19158</td>\n",
       "    </tr>\n",
       "    <tr>\n",
       "      <th>2019-05-31</th>\n",
       "      <td>13672</td>\n",
       "      <td>13672</td>\n",
       "      <td>13672</td>\n",
       "      <td>13672</td>\n",
       "      <td>13672</td>\n",
       "      <td>13672</td>\n",
       "      <td>13672</td>\n",
       "      <td>13672</td>\n",
       "      <td>13672</td>\n",
       "      <td>13672</td>\n",
       "      <td>13672</td>\n",
       "    </tr>\n",
       "    <tr>\n",
       "      <th>2019-06-30</th>\n",
       "      <td>14780</td>\n",
       "      <td>14780</td>\n",
       "      <td>14780</td>\n",
       "      <td>14780</td>\n",
       "      <td>14780</td>\n",
       "      <td>14780</td>\n",
       "      <td>14780</td>\n",
       "      <td>14780</td>\n",
       "      <td>14780</td>\n",
       "      <td>14780</td>\n",
       "      <td>14780</td>\n",
       "    </tr>\n",
       "    <tr>\n",
       "      <th>2019-07-31</th>\n",
       "      <td>20676</td>\n",
       "      <td>20676</td>\n",
       "      <td>20676</td>\n",
       "      <td>20676</td>\n",
       "      <td>20676</td>\n",
       "      <td>20676</td>\n",
       "      <td>20676</td>\n",
       "      <td>20676</td>\n",
       "      <td>20676</td>\n",
       "      <td>20676</td>\n",
       "      <td>20676</td>\n",
       "    </tr>\n",
       "    <tr>\n",
       "      <th>2019-08-31</th>\n",
       "      <td>25956</td>\n",
       "      <td>25956</td>\n",
       "      <td>25956</td>\n",
       "      <td>25956</td>\n",
       "      <td>25956</td>\n",
       "      <td>25956</td>\n",
       "      <td>25956</td>\n",
       "      <td>25956</td>\n",
       "      <td>25956</td>\n",
       "      <td>25956</td>\n",
       "      <td>25956</td>\n",
       "    </tr>\n",
       "    <tr>\n",
       "      <th>2019-09-30</th>\n",
       "      <td>22030</td>\n",
       "      <td>22030</td>\n",
       "      <td>22030</td>\n",
       "      <td>22030</td>\n",
       "      <td>22030</td>\n",
       "      <td>22030</td>\n",
       "      <td>22030</td>\n",
       "      <td>22030</td>\n",
       "      <td>22030</td>\n",
       "      <td>22030</td>\n",
       "      <td>22030</td>\n",
       "    </tr>\n",
       "    <tr>\n",
       "      <th>2019-10-31</th>\n",
       "      <td>24858</td>\n",
       "      <td>24858</td>\n",
       "      <td>24858</td>\n",
       "      <td>24858</td>\n",
       "      <td>24858</td>\n",
       "      <td>24858</td>\n",
       "      <td>24858</td>\n",
       "      <td>24858</td>\n",
       "      <td>24858</td>\n",
       "      <td>24858</td>\n",
       "      <td>24858</td>\n",
       "    </tr>\n",
       "    <tr>\n",
       "      <th>2019-11-30</th>\n",
       "      <td>19843</td>\n",
       "      <td>19843</td>\n",
       "      <td>19843</td>\n",
       "      <td>19843</td>\n",
       "      <td>19843</td>\n",
       "      <td>19843</td>\n",
       "      <td>19843</td>\n",
       "      <td>19843</td>\n",
       "      <td>19843</td>\n",
       "      <td>19843</td>\n",
       "      <td>19843</td>\n",
       "    </tr>\n",
       "    <tr>\n",
       "      <th>2019-12-31</th>\n",
       "      <td>15728</td>\n",
       "      <td>15728</td>\n",
       "      <td>15728</td>\n",
       "      <td>15728</td>\n",
       "      <td>15728</td>\n",
       "      <td>15728</td>\n",
       "      <td>15728</td>\n",
       "      <td>15728</td>\n",
       "      <td>15728</td>\n",
       "      <td>15728</td>\n",
       "      <td>15728</td>\n",
       "    </tr>\n",
       "    <tr>\n",
       "      <th>2020-01-31</th>\n",
       "      <td>22020</td>\n",
       "      <td>22020</td>\n",
       "      <td>22020</td>\n",
       "      <td>22020</td>\n",
       "      <td>22020</td>\n",
       "      <td>22020</td>\n",
       "      <td>22020</td>\n",
       "      <td>22020</td>\n",
       "      <td>22020</td>\n",
       "      <td>22020</td>\n",
       "      <td>22020</td>\n",
       "    </tr>\n",
       "    <tr>\n",
       "      <th>2020-02-29</th>\n",
       "      <td>26170</td>\n",
       "      <td>26170</td>\n",
       "      <td>26170</td>\n",
       "      <td>26170</td>\n",
       "      <td>26170</td>\n",
       "      <td>26170</td>\n",
       "      <td>26170</td>\n",
       "      <td>26170</td>\n",
       "      <td>26170</td>\n",
       "      <td>26170</td>\n",
       "      <td>26170</td>\n",
       "    </tr>\n",
       "    <tr>\n",
       "      <th>2020-03-31</th>\n",
       "      <td>27869</td>\n",
       "      <td>27869</td>\n",
       "      <td>27869</td>\n",
       "      <td>27869</td>\n",
       "      <td>27869</td>\n",
       "      <td>27869</td>\n",
       "      <td>27869</td>\n",
       "      <td>27869</td>\n",
       "      <td>27869</td>\n",
       "      <td>27869</td>\n",
       "      <td>27869</td>\n",
       "    </tr>\n",
       "    <tr>\n",
       "      <th>2020-04-30</th>\n",
       "      <td>30479</td>\n",
       "      <td>30479</td>\n",
       "      <td>30479</td>\n",
       "      <td>30479</td>\n",
       "      <td>30479</td>\n",
       "      <td>30479</td>\n",
       "      <td>30479</td>\n",
       "      <td>30479</td>\n",
       "      <td>30479</td>\n",
       "      <td>30479</td>\n",
       "      <td>30479</td>\n",
       "    </tr>\n",
       "    <tr>\n",
       "      <th>2020-05-31</th>\n",
       "      <td>29921</td>\n",
       "      <td>29921</td>\n",
       "      <td>29921</td>\n",
       "      <td>29921</td>\n",
       "      <td>29921</td>\n",
       "      <td>29921</td>\n",
       "      <td>29921</td>\n",
       "      <td>29921</td>\n",
       "      <td>29921</td>\n",
       "      <td>29921</td>\n",
       "      <td>29921</td>\n",
       "    </tr>\n",
       "    <tr>\n",
       "      <th>2020-06-30</th>\n",
       "      <td>27584</td>\n",
       "      <td>27584</td>\n",
       "      <td>27584</td>\n",
       "      <td>27584</td>\n",
       "      <td>27584</td>\n",
       "      <td>27584</td>\n",
       "      <td>27584</td>\n",
       "      <td>27584</td>\n",
       "      <td>27584</td>\n",
       "      <td>27584</td>\n",
       "      <td>27584</td>\n",
       "    </tr>\n",
       "    <tr>\n",
       "      <th>2020-07-31</th>\n",
       "      <td>34339</td>\n",
       "      <td>34339</td>\n",
       "      <td>34339</td>\n",
       "      <td>34339</td>\n",
       "      <td>34339</td>\n",
       "      <td>34339</td>\n",
       "      <td>34339</td>\n",
       "      <td>34339</td>\n",
       "      <td>34339</td>\n",
       "      <td>34339</td>\n",
       "      <td>34339</td>\n",
       "    </tr>\n",
       "    <tr>\n",
       "      <th>2020-08-31</th>\n",
       "      <td>28028</td>\n",
       "      <td>28028</td>\n",
       "      <td>28028</td>\n",
       "      <td>28028</td>\n",
       "      <td>28028</td>\n",
       "      <td>28028</td>\n",
       "      <td>28028</td>\n",
       "      <td>28028</td>\n",
       "      <td>28028</td>\n",
       "      <td>28028</td>\n",
       "      <td>28028</td>\n",
       "    </tr>\n",
       "    <tr>\n",
       "      <th>2020-09-30</th>\n",
       "      <td>26343</td>\n",
       "      <td>26343</td>\n",
       "      <td>26343</td>\n",
       "      <td>26343</td>\n",
       "      <td>26343</td>\n",
       "      <td>26343</td>\n",
       "      <td>26343</td>\n",
       "      <td>26343</td>\n",
       "      <td>26343</td>\n",
       "      <td>26343</td>\n",
       "      <td>26343</td>\n",
       "    </tr>\n",
       "    <tr>\n",
       "      <th>2020-10-31</th>\n",
       "      <td>25499</td>\n",
       "      <td>25499</td>\n",
       "      <td>25499</td>\n",
       "      <td>25499</td>\n",
       "      <td>25499</td>\n",
       "      <td>25499</td>\n",
       "      <td>25499</td>\n",
       "      <td>25499</td>\n",
       "      <td>25499</td>\n",
       "      <td>25499</td>\n",
       "      <td>25499</td>\n",
       "    </tr>\n",
       "    <tr>\n",
       "      <th>2020-11-30</th>\n",
       "      <td>25386</td>\n",
       "      <td>25386</td>\n",
       "      <td>25386</td>\n",
       "      <td>25386</td>\n",
       "      <td>25386</td>\n",
       "      <td>25386</td>\n",
       "      <td>25386</td>\n",
       "      <td>25386</td>\n",
       "      <td>25386</td>\n",
       "      <td>25386</td>\n",
       "      <td>25386</td>\n",
       "    </tr>\n",
       "    <tr>\n",
       "      <th>2020-12-31</th>\n",
       "      <td>23781</td>\n",
       "      <td>23781</td>\n",
       "      <td>23781</td>\n",
       "      <td>23781</td>\n",
       "      <td>23781</td>\n",
       "      <td>23781</td>\n",
       "      <td>23781</td>\n",
       "      <td>23781</td>\n",
       "      <td>23781</td>\n",
       "      <td>23781</td>\n",
       "      <td>23781</td>\n",
       "    </tr>\n",
       "  </tbody>\n",
       "</table>\n",
       "</div>"
      ],
      "text/plain": [
       "                 id   name  start_date  end_date  program_id  request_date  \\\n",
       "request_date                                                                 \n",
       "2018-01-31     3092   3092        3092      3092        3092          3092   \n",
       "2018-02-28    13001  13001       13001     13001       13001         13001   \n",
       "2018-03-31    18991  18991       18991     18991       18991         18991   \n",
       "2018-04-30    13687  13687       13687     13687       13687         13687   \n",
       "2018-05-31    11279  11279       11279     11279       11279         11279   \n",
       "2018-06-30    16870  16870       16870     16870       16870         16870   \n",
       "2018-07-31    14651  14651       14651     14651       14651         14651   \n",
       "2018-08-31    22245  22245       22245     22245       22245         22245   \n",
       "2018-09-30    14943  14943       14943     14943       14943         14943   \n",
       "2018-10-31    15477  15477       15477     15477       15477         15477   \n",
       "2018-11-30    14516  14516       14516     14516       14516         14516   \n",
       "2018-12-31    12757  12757       12757     12757       12757         12757   \n",
       "2019-01-31    13345  13345       13345     13345       13345         13345   \n",
       "2019-02-28    15884  15884       15884     15884       15884         15884   \n",
       "2019-03-31    17312  17312       17312     17312       17312         17312   \n",
       "2019-04-30    19158  19158       19158     19158       19158         19158   \n",
       "2019-05-31    13672  13672       13672     13672       13672         13672   \n",
       "2019-06-30    14780  14780       14780     14780       14780         14780   \n",
       "2019-07-31    20676  20676       20676     20676       20676         20676   \n",
       "2019-08-31    25956  25956       25956     25956       25956         25956   \n",
       "2019-09-30    22030  22030       22030     22030       22030         22030   \n",
       "2019-10-31    24858  24858       24858     24858       24858         24858   \n",
       "2019-11-30    19843  19843       19843     19843       19843         19843   \n",
       "2019-12-31    15728  15728       15728     15728       15728         15728   \n",
       "2020-01-31    22020  22020       22020     22020       22020         22020   \n",
       "2020-02-29    26170  26170       26170     26170       26170         26170   \n",
       "2020-03-31    27869  27869       27869     27869       27869         27869   \n",
       "2020-04-30    30479  30479       30479     30479       30479         30479   \n",
       "2020-05-31    29921  29921       29921     29921       29921         29921   \n",
       "2020-06-30    27584  27584       27584     27584       27584         27584   \n",
       "2020-07-31    34339  34339       34339     34339       34339         34339   \n",
       "2020-08-31    28028  28028       28028     28028       28028         28028   \n",
       "2020-09-30    26343  26343       26343     26343       26343         26343   \n",
       "2020-10-31    25499  25499       25499     25499       25499         25499   \n",
       "2020-11-30    25386  25386       25386     25386       25386         25386   \n",
       "2020-12-31    23781  23781       23781     23781       23781         23781   \n",
       "\n",
       "              request_time   path  user_id     ip   year  \n",
       "request_date                                              \n",
       "2018-01-31            3092   3092     3092   3092   3092  \n",
       "2018-02-28           13001  13001    13001  13001  13001  \n",
       "2018-03-31           18991  18991    18991  18991  18991  \n",
       "2018-04-30           13687  13687    13687  13687  13687  \n",
       "2018-05-31           11279  11279    11279  11279  11279  \n",
       "2018-06-30           16870  16870    16870  16870  16870  \n",
       "2018-07-31           14651  14651    14651  14651  14651  \n",
       "2018-08-31           22245  22245    22245  22245  22245  \n",
       "2018-09-30           14943  14943    14943  14943  14943  \n",
       "2018-10-31           15477  15477    15477  15477  15477  \n",
       "2018-11-30           14516  14516    14516  14516  14516  \n",
       "2018-12-31           12757  12757    12757  12757  12757  \n",
       "2019-01-31           13345  13345    13345  13345  13345  \n",
       "2019-02-28           15884  15884    15884  15884  15884  \n",
       "2019-03-31           17312  17312    17312  17312  17312  \n",
       "2019-04-30           19158  19158    19158  19158  19158  \n",
       "2019-05-31           13672  13672    13672  13672  13672  \n",
       "2019-06-30           14780  14780    14780  14780  14780  \n",
       "2019-07-31           20676  20676    20676  20676  20676  \n",
       "2019-08-31           25956  25956    25956  25956  25956  \n",
       "2019-09-30           22030  22030    22030  22030  22030  \n",
       "2019-10-31           24858  24858    24858  24858  24858  \n",
       "2019-11-30           19843  19843    19843  19843  19843  \n",
       "2019-12-31           15728  15728    15728  15728  15728  \n",
       "2020-01-31           22020  22020    22020  22020  22020  \n",
       "2020-02-29           26170  26170    26170  26170  26170  \n",
       "2020-03-31           27869  27869    27869  27869  27869  \n",
       "2020-04-30           30479  30479    30479  30479  30479  \n",
       "2020-05-31           29921  29921    29921  29921  29921  \n",
       "2020-06-30           27584  27584    27584  27584  27584  \n",
       "2020-07-31           34339  34339    34339  34339  34339  \n",
       "2020-08-31           28028  28028    28028  28028  28028  \n",
       "2020-09-30           26343  26343    26343  26343  26343  \n",
       "2020-10-31           25499  25499    25499  25499  25499  \n",
       "2020-11-30           25386  25386    25386  25386  25386  \n",
       "2020-12-31           23781  23781    23781  23781  23781  "
      ]
     },
     "execution_count": 38,
     "metadata": {},
     "output_type": "execute_result"
    }
   ],
   "source": [
    "my_df.resample('M').count()"
   ]
  },
  {
   "cell_type": "code",
   "execution_count": 39,
   "id": "55afce1a",
   "metadata": {},
   "outputs": [
    {
     "data": {
      "text/plain": [
       "request_date\n",
       "2018-01-26    533\n",
       "2018-01-27    230\n",
       "2018-01-28    168\n",
       "2018-01-29    783\n",
       "2018-01-30    614\n",
       "             ... \n",
       "2020-12-27    240\n",
       "2020-12-28    299\n",
       "2020-12-29    533\n",
       "2020-12-30    295\n",
       "2020-12-31    245\n",
       "Freq: D, Name: path, Length: 1071, dtype: int64"
      ]
     },
     "execution_count": 39,
     "metadata": {},
     "output_type": "execute_result"
    }
   ],
   "source": [
    "hits=my_df['path'].resample('D').count()\n",
    "hits"
   ]
  },
  {
   "cell_type": "code",
   "execution_count": 40,
   "id": "2d914b71",
   "metadata": {},
   "outputs": [
    {
     "data": {
      "text/plain": [
       "<AxesSubplot:xlabel='request_date'>"
      ]
     },
     "execution_count": 40,
     "metadata": {},
     "output_type": "execute_result"
    },
    {
     "data": {
      "image/png": "[encoded data removed]",
      "text/plain": [
       "<Figure size 640x480 with 1 Axes>"
      ]
     },
     "metadata": {},
     "output_type": "display_data"
    }
   ],
   "source": [
    "hits.plot()"
   ]
  },
  {
   "cell_type": "code",
   "execution_count": 41,
   "id": "cd68f201",
   "metadata": {
    "scrolled": true
   },
   "outputs": [
    {
     "data": {
      "text/plain": [
       "2.0    613888\n",
       "3.0     77987\n",
       "1.0     30290\n",
       "4.0         5\n",
       "Name: program_id, dtype: int64"
      ]
     },
     "execution_count": 41,
     "metadata": {},
     "output_type": "execute_result"
    }
   ],
   "source": [
    "my_df.program_id.value_counts()"
   ]
  },
  {
   "cell_type": "code",
   "execution_count": 42,
   "id": "4a4b7551",
   "metadata": {},
   "outputs": [
    {
     "data": {
      "text/plain": [
       "/                                           43845\n",
       "javascript-i                                17380\n",
       "search/search_index.json                    16869\n",
       "toc                                         16775\n",
       "java-iii                                    12726\n",
       "                                            ...  \n",
       "classification/overview                      2361\n",
       "html-css/css-i                               2336\n",
       "mysql/aliases                                2269\n",
       "javascript-i/testing-user-functions          2219\n",
       "1-fundamentals/modern-data-scientist.jpg     2147\n",
       "Name: path, Length: 110, dtype: int64"
      ]
     },
     "execution_count": 42,
     "metadata": {},
     "output_type": "execute_result"
    }
   ],
   "source": [
    "df.path.value_counts().head(110)"
   ]
  },
  {
   "cell_type": "code",
   "execution_count": 43,
   "id": "0a0a7f34",
   "metadata": {},
   "outputs": [],
   "source": [
    "dsdf=my_df[my_df['program_id']==3]"
   ]
  },
  {
   "cell_type": "code",
   "execution_count": 44,
   "id": "b57ae6f2",
   "metadata": {},
   "outputs": [],
   "source": [
    "devdf=my_df[(my_df['program_id']==2)]"
   ]
  },
  {
   "cell_type": "code",
   "execution_count": 45,
   "id": "a742c648",
   "metadata": {},
   "outputs": [
    {
     "data": {
      "text/plain": [
       "/                                              31092\n",
       "toc                                            14521\n",
       "javascript-i                                   14495\n",
       "search/search_index.json                       13095\n",
       "html-css                                       10705\n",
       "                                               ...  \n",
       "javascript-i/introduction/primitive-types       3536\n",
       "jquery/essential-methods/attributes-and-css     3519\n",
       "jquery/ajax/requests-and-responses              3483\n",
       "mysql/relationships/joins                       3482\n",
       "javascript-i/bom-and-dom/bom                    3460\n",
       "Name: path, Length: 70, dtype: int64"
      ]
     },
     "execution_count": 45,
     "metadata": {},
     "output_type": "execute_result"
    }
   ],
   "source": [
    "devdf.path.value_counts().head(70)"
   ]
  },
  {
   "cell_type": "code",
   "execution_count": 46,
   "id": "a861b49c",
   "metadata": {},
   "outputs": [],
   "source": [
    "dsdev=dsdf[dsdf['path'].str.contains('java')]"
   ]
  },
  {
   "cell_type": "code",
   "execution_count": 47,
   "id": "53b8652c",
   "metadata": {},
   "outputs": [],
   "source": [
    "devds=devdf[devdf['path'].str.contains('pandas')]"
   ]
  },
  {
   "cell_type": "code",
   "execution_count": 48,
   "id": "8dada1bf",
   "metadata": {
    "scrolled": false
   },
   "outputs": [
    {
     "data": {
      "text/plain": [
       "<matplotlib.legend.Legend at 0x1390dc340>"
      ]
     },
     "execution_count": 48,
     "metadata": {},
     "output_type": "execute_result"
    },
    {
     "data": {
      "image/png": "[encoded data removed]",
      "text/plain": [
       "<Figure size 640x480 with 1 Axes>"
      ]
     },
     "metadata": {},
     "output_type": "display_data"
    }
   ],
   "source": [
    "hits=dsdev['path'].resample('D').count()\n",
    "hits.plot(alpha=.75, label='Data Science')\n",
    "hits=devds['path'].resample('D').count()\n",
    "hits.plot(alpha=.5, label='Web Dev')\n",
    "plt.xlabel('Request Date')\n",
    "plt.ylabel('Activity')\n",
    "plt.title('Cross Discipline Curriculum Access')\n",
    "plt.legend()"
   ]
  },
  {
   "cell_type": "code",
   "execution_count": 49,
   "id": "4feb362e",
   "metadata": {},
   "outputs": [],
   "source": [
    "def q5():\n",
    "    '''\n",
    "    this function will subset the data for question 5 and plot the results\n",
    "    '''\n",
    "    df=pd.read_csv('curriculum.csv')\n",
    "    dsdf=my_df[my_df['program_id']==3]\n",
    "    devdf=my_df[(my_df['program_id']==2)]\n",
    "    dsdev=dsdf[dsdf['path'].str.contains('java')]\n",
    "    devds=devdf[devdf['path'].str.contains('pandas')]\n",
    "    hits=dsdev['path'].resample('D').count()\n",
    "    hits.plot(alpha=.75, label='Data Science')\n",
    "    hits=devds['path'].resample('D').count()\n",
    "    hits.plot(alpha=.5, label='Web Dev')\n",
    "    plt.xlabel('Request Date')\n",
    "    plt.ylabel('Activity')\n",
    "    plt.title('Cross Discipline Curriculum Access')\n",
    "    plt.legend()"
   ]
  },
  {
   "cell_type": "code",
   "execution_count": 50,
   "id": "655eeedd",
   "metadata": {},
   "outputs": [
    {
     "data": {
      "image/png": "[encoded data removed]",
      "text/plain": [
       "<Figure size 640x480 with 1 Axes>"
      ]
     },
     "metadata": {},
     "output_type": "display_data"
    }
   ],
   "source": [
    "q5()"
   ]
  },
  {
   "cell_type": "markdown",
   "id": "c8d33463",
   "metadata": {},
   "source": [
    "<div class=\"alert alert-info\">\n",
    "    <header>\n",
    "    <h2>Exploration Question 5:</h2>\n",
    "    </header>\n",
    "    <dl>\n",
    "        <dt>At some point in 2019, the ability for students and alumni to access both curriculums (web dev to ds, ds to web dev) should have been shut off. Do you see any evidence of that happening? Did it happen before?</dt>\n",
    "        <dd>- The web dev students were accessing the data science curriculum when the first data science cohort started at Codeup.</dd>\n",
    "        <dd>- In late 2019 it appears that access was cut off for both cohorts.</dd>\n",
    "        <dd>- The cross-access in 2020 could be instructor accounts/instructors transitioning from web dev to data science or web dev access could have been cut off later in 2020.</dd>\n",
    "    </dl>\n",
    "</div>"
   ]
  },
  {
   "cell_type": "code",
   "execution_count": 51,
   "id": "7d3af41e",
   "metadata": {
    "scrolled": false
   },
   "outputs": [
    {
     "data": {
      "text/plain": [
       "<AxesSubplot:xlabel='request_date'>"
      ]
     },
     "execution_count": 51,
     "metadata": {},
     "output_type": "execute_result"
    },
    {
     "data": {
      "image/png": "[encoded data removed]",
      "text/plain": [
       "<Figure size 640x480 with 1 Axes>"
      ]
     },
     "metadata": {},
     "output_type": "display_data"
    }
   ],
   "source": [
    "hits.plot()"
   ]
  },
  {
   "cell_type": "markdown",
   "id": "9e4b7f12",
   "metadata": {},
   "source": [
    "# 6. What topics are grads continuing to reference after graduation and into their jobs (for each program)?\n"
   ]
  },
  {
   "cell_type": "code",
   "execution_count": 52,
   "id": "449297b1",
   "metadata": {},
   "outputs": [
    {
     "data": {
      "text/html": [
       "<div>\n",
       "<style scoped>\n",
       "    .dataframe tbody tr th:only-of-type {\n",
       "        vertical-align: middle;\n",
       "    }\n",
       "\n",
       "    .dataframe tbody tr th {\n",
       "        vertical-align: top;\n",
       "    }\n",
       "\n",
       "    .dataframe thead th {\n",
       "        text-align: right;\n",
       "    }\n",
       "</style>\n",
       "<table border=\"1\" class=\"dataframe\">\n",
       "  <thead>\n",
       "    <tr style=\"text-align: right;\">\n",
       "      <th></th>\n",
       "      <th>id</th>\n",
       "      <th>name</th>\n",
       "      <th>start_date</th>\n",
       "      <th>end_date</th>\n",
       "      <th>program_id</th>\n",
       "      <th>request_date</th>\n",
       "      <th>request_time</th>\n",
       "      <th>path</th>\n",
       "      <th>user_id</th>\n",
       "      <th>ip</th>\n",
       "      <th>year</th>\n",
       "    </tr>\n",
       "    <tr>\n",
       "      <th>request_date</th>\n",
       "      <th></th>\n",
       "      <th></th>\n",
       "      <th></th>\n",
       "      <th></th>\n",
       "      <th></th>\n",
       "      <th></th>\n",
       "      <th></th>\n",
       "      <th></th>\n",
       "      <th></th>\n",
       "      <th></th>\n",
       "      <th></th>\n",
       "    </tr>\n",
       "  </thead>\n",
       "  <tbody>\n",
       "    <tr>\n",
       "      <th>2018-01-26</th>\n",
       "      <td>8.0</td>\n",
       "      <td>Hampton</td>\n",
       "      <td>2015-09-22</td>\n",
       "      <td>2016-02-06</td>\n",
       "      <td>1.0</td>\n",
       "      <td>2018-01-26</td>\n",
       "      <td>09:55:03</td>\n",
       "      <td>/</td>\n",
       "      <td>1.0</td>\n",
       "      <td>97.105.19.61</td>\n",
       "      <td>2018</td>\n",
       "    </tr>\n",
       "    <tr>\n",
       "      <th>2018-01-26</th>\n",
       "      <td>8.0</td>\n",
       "      <td>Hampton</td>\n",
       "      <td>2015-09-22</td>\n",
       "      <td>2016-02-06</td>\n",
       "      <td>1.0</td>\n",
       "      <td>2018-01-26</td>\n",
       "      <td>09:56:02</td>\n",
       "      <td>java-ii</td>\n",
       "      <td>1.0</td>\n",
       "      <td>97.105.19.61</td>\n",
       "      <td>2018</td>\n",
       "    </tr>\n",
       "    <tr>\n",
       "      <th>2018-01-26</th>\n",
       "      <td>8.0</td>\n",
       "      <td>Hampton</td>\n",
       "      <td>2015-09-22</td>\n",
       "      <td>2016-02-06</td>\n",
       "      <td>1.0</td>\n",
       "      <td>2018-01-26</td>\n",
       "      <td>09:56:05</td>\n",
       "      <td>java-ii/object-oriented-programming</td>\n",
       "      <td>1.0</td>\n",
       "      <td>97.105.19.61</td>\n",
       "      <td>2018</td>\n",
       "    </tr>\n",
       "    <tr>\n",
       "      <th>2018-01-26</th>\n",
       "      <td>8.0</td>\n",
       "      <td>Hampton</td>\n",
       "      <td>2015-09-22</td>\n",
       "      <td>2016-02-06</td>\n",
       "      <td>1.0</td>\n",
       "      <td>2018-01-26</td>\n",
       "      <td>09:56:06</td>\n",
       "      <td>slides/object_oriented_programming</td>\n",
       "      <td>1.0</td>\n",
       "      <td>97.105.19.61</td>\n",
       "      <td>2018</td>\n",
       "    </tr>\n",
       "    <tr>\n",
       "      <th>2018-01-26</th>\n",
       "      <td>22.0</td>\n",
       "      <td>Teddy</td>\n",
       "      <td>2018-01-08</td>\n",
       "      <td>2018-05-17</td>\n",
       "      <td>2.0</td>\n",
       "      <td>2018-01-26</td>\n",
       "      <td>09:56:24</td>\n",
       "      <td>javascript-i/conditionals</td>\n",
       "      <td>2.0</td>\n",
       "      <td>97.105.19.61</td>\n",
       "      <td>2018</td>\n",
       "    </tr>\n",
       "  </tbody>\n",
       "</table>\n",
       "</div>"
      ],
      "text/plain": [
       "                id     name  start_date    end_date  program_id request_date  \\\n",
       "request_date                                                                   \n",
       "2018-01-26     8.0  Hampton  2015-09-22  2016-02-06         1.0   2018-01-26   \n",
       "2018-01-26     8.0  Hampton  2015-09-22  2016-02-06         1.0   2018-01-26   \n",
       "2018-01-26     8.0  Hampton  2015-09-22  2016-02-06         1.0   2018-01-26   \n",
       "2018-01-26     8.0  Hampton  2015-09-22  2016-02-06         1.0   2018-01-26   \n",
       "2018-01-26    22.0    Teddy  2018-01-08  2018-05-17         2.0   2018-01-26   \n",
       "\n",
       "             request_time                                 path  user_id  \\\n",
       "request_date                                                              \n",
       "2018-01-26       09:55:03                                    /      1.0   \n",
       "2018-01-26       09:56:02                              java-ii      1.0   \n",
       "2018-01-26       09:56:05  java-ii/object-oriented-programming      1.0   \n",
       "2018-01-26       09:56:06   slides/object_oriented_programming      1.0   \n",
       "2018-01-26       09:56:24            javascript-i/conditionals      2.0   \n",
       "\n",
       "                        ip  year  \n",
       "request_date                      \n",
       "2018-01-26    97.105.19.61  2018  \n",
       "2018-01-26    97.105.19.61  2018  \n",
       "2018-01-26    97.105.19.61  2018  \n",
       "2018-01-26    97.105.19.61  2018  \n",
       "2018-01-26    97.105.19.61  2018  "
      ]
     },
     "execution_count": 52,
     "metadata": {},
     "output_type": "execute_result"
    }
   ],
   "source": [
    "df.head()"
   ]
  },
  {
   "cell_type": "code",
   "execution_count": 53,
   "id": "1c01182d",
   "metadata": {},
   "outputs": [],
   "source": [
    "df['end_date']=pd.to_datetime(df['end_date'])"
   ]
  },
  {
   "cell_type": "code",
   "execution_count": 54,
   "id": "9d5a84e9",
   "metadata": {},
   "outputs": [
    {
     "data": {
      "text/html": [
       "<div>\n",
       "<style scoped>\n",
       "    .dataframe tbody tr th:only-of-type {\n",
       "        vertical-align: middle;\n",
       "    }\n",
       "\n",
       "    .dataframe tbody tr th {\n",
       "        vertical-align: top;\n",
       "    }\n",
       "\n",
       "    .dataframe thead th {\n",
       "        text-align: right;\n",
       "    }\n",
       "</style>\n",
       "<table border=\"1\" class=\"dataframe\">\n",
       "  <thead>\n",
       "    <tr style=\"text-align: right;\">\n",
       "      <th></th>\n",
       "      <th></th>\n",
       "      <th>path</th>\n",
       "    </tr>\n",
       "    <tr>\n",
       "      <th>name</th>\n",
       "      <th>path</th>\n",
       "      <th></th>\n",
       "    </tr>\n",
       "  </thead>\n",
       "  <tbody>\n",
       "    <tr>\n",
       "      <th rowspan=\"5\" valign=\"top\">Andromeda</th>\n",
       "      <th>/</th>\n",
       "      <td>1173</td>\n",
       "    </tr>\n",
       "    <tr>\n",
       "      <th>toc</th>\n",
       "      <td>638</td>\n",
       "    </tr>\n",
       "    <tr>\n",
       "      <th>javascript-i</th>\n",
       "      <td>516</td>\n",
       "    </tr>\n",
       "    <tr>\n",
       "      <th>spring</th>\n",
       "      <td>487</td>\n",
       "    </tr>\n",
       "    <tr>\n",
       "      <th>java-iii</th>\n",
       "      <td>433</td>\n",
       "    </tr>\n",
       "    <tr>\n",
       "      <th>...</th>\n",
       "      <th>...</th>\n",
       "      <td>...</td>\n",
       "    </tr>\n",
       "    <tr>\n",
       "      <th rowspan=\"5\" valign=\"top\">Zion</th>\n",
       "      <th>uploads/598dc43df39e2.jpg</th>\n",
       "      <td>1</td>\n",
       "    </tr>\n",
       "    <tr>\n",
       "      <th>web-design/intro</th>\n",
       "      <td>1</td>\n",
       "    </tr>\n",
       "    <tr>\n",
       "      <th>web-design/ui/visuals</th>\n",
       "      <td>1</td>\n",
       "    </tr>\n",
       "    <tr>\n",
       "      <th>web-design/ux/layout</th>\n",
       "      <td>1</td>\n",
       "    </tr>\n",
       "    <tr>\n",
       "      <th>web-design/ux/purpose</th>\n",
       "      <td>1</td>\n",
       "    </tr>\n",
       "  </tbody>\n",
       "</table>\n",
       "<p>13312 rows × 1 columns</p>\n",
       "</div>"
      ],
      "text/plain": [
       "                                     path\n",
       "name      path                           \n",
       "Andromeda /                          1173\n",
       "          toc                         638\n",
       "          javascript-i                516\n",
       "          spring                      487\n",
       "          java-iii                    433\n",
       "...                                   ...\n",
       "Zion      uploads/598dc43df39e2.jpg     1\n",
       "          web-design/intro              1\n",
       "          web-design/ui/visuals         1\n",
       "          web-design/ux/layout          1\n",
       "          web-design/ux/purpose         1\n",
       "\n",
       "[13312 rows x 1 columns]"
      ]
     },
     "execution_count": 54,
     "metadata": {},
     "output_type": "execute_result"
    }
   ],
   "source": [
    "pd.DataFrame(df[['name','path']].groupby('name')['path'].value_counts())"
   ]
  },
  {
   "cell_type": "code",
   "execution_count": 55,
   "id": "f784bf4e",
   "metadata": {},
   "outputs": [],
   "source": [
    "ref=df[df['request_date']>df['end_date']]"
   ]
  },
  {
   "cell_type": "code",
   "execution_count": 56,
   "id": "c5cef7dc",
   "metadata": {},
   "outputs": [
    {
     "data": {
      "text/html": [
       "<div>\n",
       "<style scoped>\n",
       "    .dataframe tbody tr th:only-of-type {\n",
       "        vertical-align: middle;\n",
       "    }\n",
       "\n",
       "    .dataframe tbody tr th {\n",
       "        vertical-align: top;\n",
       "    }\n",
       "\n",
       "    .dataframe thead th {\n",
       "        text-align: right;\n",
       "    }\n",
       "</style>\n",
       "<table border=\"1\" class=\"dataframe\">\n",
       "  <thead>\n",
       "    <tr style=\"text-align: right;\">\n",
       "      <th></th>\n",
       "      <th>0</th>\n",
       "    </tr>\n",
       "  </thead>\n",
       "  <tbody>\n",
       "    <tr>\n",
       "      <th>path</th>\n",
       "      <td>7</td>\n",
       "    </tr>\n",
       "  </tbody>\n",
       "</table>\n",
       "</div>"
      ],
      "text/plain": [
       "      0\n",
       "path  7"
      ]
     },
     "execution_count": 56,
     "metadata": {},
     "output_type": "execute_result"
    }
   ],
   "source": [
    "pd.DataFrame(ref[['program_id','path']].groupby('program_id').nth([0,5]).agg('count'))"
   ]
  },
  {
   "cell_type": "code",
   "execution_count": null,
   "id": "0c1658c4",
   "metadata": {},
   "outputs": [],
   "source": []
  }
 ],
 "metadata": {
  "kernelspec": {
   "display_name": "Python 3 (ipykernel)",
   "language": "python",
   "name": "python3"
  },
  "language_info": {
   "codemirror_mode": {
    "name": "ipython",
    "version": 3
   },
   "file_extension": ".py",
   "mimetype": "text/x-python",
   "name": "python",
   "nbconvert_exporter": "python",
   "pygments_lexer": "ipython3",
   "version": "3.9.13"
  }
 },
 "nbformat": 4,
 "nbformat_minor": 5
}
