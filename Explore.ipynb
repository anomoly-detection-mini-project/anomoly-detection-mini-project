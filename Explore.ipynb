{
 "cells": [
  {
   "cell_type": "code",
   "execution_count": null,
   "id": "4ca36a97",
   "metadata": {},
   "outputs": [],
   "source": [
    "# imports\n",
    "\n",
    "import pandas as pd\n",
    "import numpy as np\n",
    "\n",
    "import matplotlib.pyplot as plt\n",
    "import seaborn as sns\n",
    "\n",
    "import warnings\n",
    "warnings.filterwarnings(\"ignore\")\n",
    "pd.set_option('display.max_rows', None)\n",
    "\n",
    "\n",
    "def get_max_traffic(df):\n",
    "    \n",
    "    df = df  [~((df.path.str.startswith('/'))|(df.path.str.startswith('appendix')) | (df.path.str.startswith('users'))|(df.path.str.startswith('warmup')))]\n",
    "    \n",
    "    df = df[df.name != 'Staff']\n",
    "    \n",
    "    df = (df.groupby(['program_id','name'])\n",
    "            .path.value_counts(normalize=True)\n",
    "            .rename('proba_status')\n",
    "            .reset_index())\n",
    "    \n",
    "    df_1 = pd.DataFrame(df.groupby(['program_id','name']).proba_status.max()).reset_index()\n",
    "    \n",
    "    df = pd.merge(df, df_1, how='inner', on=['program_id','name','proba_status'])\n",
    "    \n",
    "    return df"
   ]
  },
  {
   "cell_type": "code",
   "execution_count": null,
   "id": "f95f9c05",
   "metadata": {},
   "outputs": [],
   "source": [
    "def Q_two(df):\n",
    "    '''this function answers questions 2 from the email. it takes in a df and returns\n",
    "       a new df with a groupby of the names of cohorts and path counts'''\n",
    "    weird_df= df.groupby(['name', 'path']).agg('count')\n",
    "    weird_df.sort_values(by= 'name', ascending= False)\n",
    "    weird_df= weird_df.reset_index()\n",
    "    weird_df= weird_df[weird_df.path != '/']\n",
    "    count_df= weird_df[['name', 'path', 'ip']]\n",
    "    count_df.sort_values(by= ['name', 'ip'], ascending= [False, False])\n",
    "    new_df= count_df.sort_values(by= 'ip', ascending= False).groupby('name').nth(0)\n",
    "    return new_df"
   ]
  },
  {
   "cell_type": "code",
   "execution_count": null,
   "id": "79a6ccdf",
   "metadata": {},
   "outputs": [],
   "source": [
    "def plot_q2(df):\n",
    "    ax = sns.scatterplot(data=new_df)\n",
    "    plt.title('Lesson Vs Cohort?')\n",
    "    plt.ylabel('Log Count')\n",
    "    plt.xlabel('Cohorts')\n",
    "    plt.tick_params(\n",
    "        axis='x',          # changes apply to the x-axis\n",
    "        bottom=False,      # ticks along the bottom edge are off\n",
    "        labelbottom=False) # labels along the bottom edge are off\n",
    "    ax.annotate('Toc/Jupiter Cohort', xy=(22.75, 1830), xytext=(3, 1650),\n",
    "                arrowprops=dict(facecolor='black', shrink=0.09))\n",
    "    ax.get_legend().remove()\n",
    "    plt.show()"
   ]
  },
  {
   "cell_type": "code",
   "execution_count": null,
   "id": "cc18e007",
   "metadata": {},
   "outputs": [],
   "source": []
  },
  {
   "cell_type": "code",
   "execution_count": null,
   "id": "25fd9ffa",
   "metadata": {},
   "outputs": [],
   "source": []
  }
 ],
 "metadata": {
  "kernelspec": {
   "display_name": "Python 3 (ipykernel)",
   "language": "python",
   "name": "python3"
  },
  "language_info": {
   "codemirror_mode": {
    "name": "ipython",
    "version": 3
   },
   "file_extension": ".py",
   "mimetype": "text/x-python",
   "name": "python",
   "nbconvert_exporter": "python",
   "pygments_lexer": "ipython3",
   "version": "3.9.13"
  }
 },
 "nbformat": 4,
 "nbformat_minor": 5
}
